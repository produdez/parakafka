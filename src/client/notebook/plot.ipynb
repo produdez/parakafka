{
 "cells": [
  {
   "cell_type": "code",
   "execution_count": 85,
   "metadata": {},
   "outputs": [
    {
     "name": "stdout",
     "output_type": "stream",
     "text": [
      "Requirement already satisfied: pymongo in w:\\work\\anaconda\\envs\\ml\\lib\\site-packages (3.12.1)\n"
     ]
    },
    {
     "name": "stderr",
     "output_type": "stream",
     "text": [
      "WARNING: Ignoring invalid distribution -illow (w:\\work\\anaconda\\envs\\ml\\lib\\site-packages)\n",
      "WARNING: Ignoring invalid distribution -illow (w:\\work\\anaconda\\envs\\ml\\lib\\site-packages)\n",
      "WARNING: Ignoring invalid distribution -illow (w:\\work\\anaconda\\envs\\ml\\lib\\site-packages)\n",
      "WARNING: Ignoring invalid distribution -illow (w:\\work\\anaconda\\envs\\ml\\lib\\site-packages)\n",
      "WARNING: Ignoring invalid distribution -illow (w:\\work\\anaconda\\envs\\ml\\lib\\site-packages)\n",
      "WARNING: Ignoring invalid distribution -illow (w:\\work\\anaconda\\envs\\ml\\lib\\site-packages)\n"
     ]
    }
   ],
   "source": [
    "!pip install pymongo"
   ]
  },
  {
   "cell_type": "code",
   "execution_count": null,
   "metadata": {},
   "outputs": [],
   "source": []
  },
  {
   "cell_type": "code",
   "execution_count": 1,
   "metadata": {},
   "outputs": [],
   "source": [
    "from pymongo import MongoClient"
   ]
  },
  {
   "cell_type": "code",
   "execution_count": 57,
   "metadata": {},
   "outputs": [],
   "source": [
    "# * VERY IMPORTANT TO CONFIG HERE\n",
    "mongo_url = 'mongodb://localhost'\n",
    "db_name = 'test'\n",
    "collection_name = 'test_collection'\n",
    "column_name = 'data'\n",
    "\n",
    "client = MongoClient(mongo_url)\n",
    "db=client[db_name]\n",
    "collection = db[collection_name]"
   ]
  },
  {
   "cell_type": "code",
   "execution_count": 74,
   "metadata": {},
   "outputs": [
    {
     "name": "stdout",
     "output_type": "stream",
     "text": [
      "\n",
      "<>______START COUNT LOSS__________\n",
      "Producer IDs:\n",
      "1. f3fdf026-f424-4dde-acec-320b66b39740\n",
      "                 0\n",
      "count   558.000000\n",
      "mean   2997.526882\n",
      "std     127.130004\n",
      "min       0.000000\n",
      "25%    3002.000000\n",
      "50%    3003.000000\n",
      "75%    3004.000000\n",
      "max    3017.000000\n",
      "                 0\n",
      "count   558.000000\n",
      "mean   2997.507168\n",
      "std     127.128552\n",
      "min       0.000000\n",
      "25%    3002.000000\n",
      "50%    3003.000000\n",
      "75%    3004.000000\n",
      "max    3018.000000\n",
      "<>______END COUNT LOSS__________\n",
      "\n",
      "2. 74d5e630-9d3a-4d79-bb96-507f5fb19584\n",
      "                 0\n",
      "count   558.000000\n",
      "mean   2997.526882\n",
      "std     127.130004\n",
      "min       0.000000\n",
      "25%    3002.000000\n",
      "50%    3003.000000\n",
      "75%    3004.000000\n",
      "max    3017.000000\n",
      "                 0\n",
      "count   558.000000\n",
      "mean   2997.507168\n",
      "std     127.128552\n",
      "min       0.000000\n",
      "25%    3002.000000\n",
      "50%    3003.000000\n",
      "75%    3004.000000\n",
      "max    3018.000000\n",
      "<>______END COUNT LOSS__________\n",
      "\n"
     ]
    }
   ],
   "source": [
    "prod_id_list = [i['_id'] for i in list(collection.aggregate([{\"$group\": {\"_id\": \"$producer_id\"}}]))]\n",
    "print('\\n<>______START COUNT LOSS__________')\n",
    "print(f'Producer IDs:')\n",
    "for index, val in enumerate(prod_id_list):\n",
    "    print(f'{index+1}. {val}')\n",
    "    for index, prod_id in enumerate(prod_id_list):\n",
    "        dataListOfProd = [i for i in list(\n",
    "            collection.find({\"producer_id\": prod_id}))]\n",
    "        print(pd.DataFrame([i['timestamp_producer']\n",
    "                                   for i in dataListOfProd],).diff().fillna(0).describe())\n",
    "\n",
    "    print('<>______END COUNT LOSS__________\\n')\n"
   ]
  },
  {
   "cell_type": "code",
   "execution_count": 78,
   "metadata": {},
   "outputs": [
    {
     "data": {
      "text/html": [
       "<div>\n",
       "<style scoped>\n",
       "    .dataframe tbody tr th:only-of-type {\n",
       "        vertical-align: middle;\n",
       "    }\n",
       "\n",
       "    .dataframe tbody tr th {\n",
       "        vertical-align: top;\n",
       "    }\n",
       "\n",
       "    .dataframe thead th {\n",
       "        text-align: right;\n",
       "    }\n",
       "</style>\n",
       "<table border=\"1\" class=\"dataframe\">\n",
       "  <thead>\n",
       "    <tr style=\"text-align: right;\">\n",
       "      <th></th>\n",
       "      <th>prod</th>\n",
       "    </tr>\n",
       "  </thead>\n",
       "  <tbody>\n",
       "    <tr>\n",
       "      <th>0</th>\n",
       "      <td>0.0</td>\n",
       "    </tr>\n",
       "    <tr>\n",
       "      <th>1</th>\n",
       "      <td>3002.0</td>\n",
       "    </tr>\n",
       "    <tr>\n",
       "      <th>2</th>\n",
       "      <td>3004.0</td>\n",
       "    </tr>\n",
       "    <tr>\n",
       "      <th>3</th>\n",
       "      <td>3003.0</td>\n",
       "    </tr>\n",
       "    <tr>\n",
       "      <th>4</th>\n",
       "      <td>3003.0</td>\n",
       "    </tr>\n",
       "    <tr>\n",
       "      <th>...</th>\n",
       "      <td>...</td>\n",
       "    </tr>\n",
       "    <tr>\n",
       "      <th>553</th>\n",
       "      <td>3004.0</td>\n",
       "    </tr>\n",
       "    <tr>\n",
       "      <th>554</th>\n",
       "      <td>3002.0</td>\n",
       "    </tr>\n",
       "    <tr>\n",
       "      <th>555</th>\n",
       "      <td>3008.0</td>\n",
       "    </tr>\n",
       "    <tr>\n",
       "      <th>556</th>\n",
       "      <td>3001.0</td>\n",
       "    </tr>\n",
       "    <tr>\n",
       "      <th>557</th>\n",
       "      <td>3003.0</td>\n",
       "    </tr>\n",
       "  </tbody>\n",
       "</table>\n",
       "<p>558 rows × 1 columns</p>\n",
       "</div>"
      ],
      "text/plain": [
       "       prod\n",
       "0       0.0\n",
       "1    3002.0\n",
       "2    3004.0\n",
       "3    3003.0\n",
       "4    3003.0\n",
       "..      ...\n",
       "553  3004.0\n",
       "554  3002.0\n",
       "555  3008.0\n",
       "556  3001.0\n",
       "557  3003.0\n",
       "\n",
       "[558 rows x 1 columns]"
      ]
     },
     "execution_count": 78,
     "metadata": {},
     "output_type": "execute_result"
    }
   ],
   "source": [
    "pd.DataFrame([i['timestamp_producer'] for i in dataListOfProd], columns=[\"prod\"]).diff().fillna(0)\n"
   ]
  },
  {
   "cell_type": "code",
   "execution_count": 58,
   "metadata": {},
   "outputs": [
    {
     "data": {
      "text/html": [
       "<div>\n",
       "<style scoped>\n",
       "    .dataframe tbody tr th:only-of-type {\n",
       "        vertical-align: middle;\n",
       "    }\n",
       "\n",
       "    .dataframe tbody tr th {\n",
       "        vertical-align: top;\n",
       "    }\n",
       "\n",
       "    .dataframe thead th {\n",
       "        text-align: right;\n",
       "    }\n",
       "</style>\n",
       "<table border=\"1\" class=\"dataframe\">\n",
       "  <thead>\n",
       "    <tr style=\"text-align: right;\">\n",
       "      <th></th>\n",
       "      <th>_id</th>\n",
       "      <th>topic</th>\n",
       "      <th>partition</th>\n",
       "      <th>timestamp_kafka</th>\n",
       "      <th>timestamp_db</th>\n",
       "      <th>sequence_num</th>\n",
       "      <th>data</th>\n",
       "      <th>timestamp_producer</th>\n",
       "      <th>producer_id</th>\n",
       "    </tr>\n",
       "  </thead>\n",
       "  <tbody>\n",
       "    <tr>\n",
       "      <th>58</th>\n",
       "      <td>61a3982735638e614139dd76</td>\n",
       "      <td>test-topic</td>\n",
       "      <td>0</td>\n",
       "      <td>1638111269575</td>\n",
       "      <td>1.638111e+12</td>\n",
       "      <td>403</td>\n",
       "      <td>0.635679</td>\n",
       "      <td>1.638111e+12</td>\n",
       "      <td>f3fdf026-f424-4dde-acec-320b66b39740</td>\n",
       "    </tr>\n",
       "    <tr>\n",
       "      <th>59</th>\n",
       "      <td>61a3982735638e614139dd77</td>\n",
       "      <td>test-topic</td>\n",
       "      <td>0</td>\n",
       "      <td>1638111271077</td>\n",
       "      <td>1.638111e+12</td>\n",
       "      <td>403</td>\n",
       "      <td>-0.460716</td>\n",
       "      <td>1.638111e+12</td>\n",
       "      <td>74d5e630-9d3a-4d79-bb96-507f5fb19584</td>\n",
       "    </tr>\n",
       "    <tr>\n",
       "      <th>60</th>\n",
       "      <td>61a3982835638e614139dd78</td>\n",
       "      <td>test-topic</td>\n",
       "      <td>2</td>\n",
       "      <td>1638111272578</td>\n",
       "      <td>1.638111e+12</td>\n",
       "      <td>404</td>\n",
       "      <td>1.330498</td>\n",
       "      <td>1.638111e+12</td>\n",
       "      <td>f3fdf026-f424-4dde-acec-320b66b39740</td>\n",
       "    </tr>\n",
       "    <tr>\n",
       "      <th>61</th>\n",
       "      <td>61a3982a35638e614139dd79</td>\n",
       "      <td>test-topic</td>\n",
       "      <td>2</td>\n",
       "      <td>1638111274081</td>\n",
       "      <td>1.638111e+12</td>\n",
       "      <td>404</td>\n",
       "      <td>-0.618748</td>\n",
       "      <td>1.638111e+12</td>\n",
       "      <td>74d5e630-9d3a-4d79-bb96-507f5fb19584</td>\n",
       "    </tr>\n",
       "    <tr>\n",
       "      <th>62</th>\n",
       "      <td>61a3982b35638e614139dd7a</td>\n",
       "      <td>test-topic</td>\n",
       "      <td>1</td>\n",
       "      <td>1638111275581</td>\n",
       "      <td>1.638111e+12</td>\n",
       "      <td>405</td>\n",
       "      <td>-0.949054</td>\n",
       "      <td>1.638111e+12</td>\n",
       "      <td>f3fdf026-f424-4dde-acec-320b66b39740</td>\n",
       "    </tr>\n",
       "  </tbody>\n",
       "</table>\n",
       "</div>"
      ],
      "text/plain": [
       "                         _id       topic  partition timestamp_kafka  \\\n",
       "58  61a3982735638e614139dd76  test-topic          0   1638111269575   \n",
       "59  61a3982735638e614139dd77  test-topic          0   1638111271077   \n",
       "60  61a3982835638e614139dd78  test-topic          2   1638111272578   \n",
       "61  61a3982a35638e614139dd79  test-topic          2   1638111274081   \n",
       "62  61a3982b35638e614139dd7a  test-topic          1   1638111275581   \n",
       "\n",
       "    timestamp_db  sequence_num      data  timestamp_producer  \\\n",
       "58  1.638111e+12           403  0.635679        1.638111e+12   \n",
       "59  1.638111e+12           403 -0.460716        1.638111e+12   \n",
       "60  1.638111e+12           404  1.330498        1.638111e+12   \n",
       "61  1.638111e+12           404 -0.618748        1.638111e+12   \n",
       "62  1.638111e+12           405 -0.949054        1.638111e+12   \n",
       "\n",
       "                             producer_id  \n",
       "58  f3fdf026-f424-4dde-acec-320b66b39740  \n",
       "59  74d5e630-9d3a-4d79-bb96-507f5fb19584  \n",
       "60  f3fdf026-f424-4dde-acec-320b66b39740  \n",
       "61  74d5e630-9d3a-4d79-bb96-507f5fb19584  \n",
       "62  f3fdf026-f424-4dde-acec-320b66b39740  "
      ]
     },
     "execution_count": 58,
     "metadata": {},
     "output_type": "execute_result"
    }
   ],
   "source": [
    "import pandas as pd\n",
    "data = pd.DataFrame( list(collection.find({})))\n",
    "data.tail()"
   ]
  },
  {
   "cell_type": "code",
   "execution_count": 31,
   "metadata": {},
   "outputs": [
    {
     "name": "stdout",
     "output_type": "stream",
     "text": [
      "Current data count:  (5418, 9)\n"
     ]
    }
   ],
   "source": [
    "print('Current data count: ', data.shape)"
   ]
  },
  {
   "cell_type": "code",
   "execution_count": 32,
   "metadata": {},
   "outputs": [
    {
     "data": {
      "image/png": "[encoded data removed]",
      "text/plain": [
       "<Figure size 432x288 with 1 Axes>"
      ]
     },
     "metadata": {
      "needs_background": "light"
     },
     "output_type": "display_data"
    }
   ],
   "source": [
    "import matplotlib.pyplot as plt\n",
    "import seaborn as sns\n",
    "sns.histplot(data=data, x=column_name)\n",
    "plt.show()"
   ]
  },
  {
   "cell_type": "markdown",
   "metadata": {},
   "source": [
    "# Throughput calculation TEST"
   ]
  },
  {
   "cell_type": "code",
   "execution_count": 39,
   "metadata": {},
   "outputs": [
    {
     "data": {
      "text/html": [
       "<div>\n",
       "<style scoped>\n",
       "    .dataframe tbody tr th:only-of-type {\n",
       "        vertical-align: middle;\n",
       "    }\n",
       "\n",
       "    .dataframe tbody tr th {\n",
       "        vertical-align: top;\n",
       "    }\n",
       "\n",
       "    .dataframe thead th {\n",
       "        text-align: right;\n",
       "    }\n",
       "</style>\n",
       "<table border=\"1\" class=\"dataframe\">\n",
       "  <thead>\n",
       "    <tr style=\"text-align: right;\">\n",
       "      <th></th>\n",
       "      <th>timestamp_kafka</th>\n",
       "      <th>timestamp_db</th>\n",
       "      <th>timestamp_producer</th>\n",
       "    </tr>\n",
       "  </thead>\n",
       "  <tbody>\n",
       "    <tr>\n",
       "      <th>0</th>\n",
       "      <td>1638110119445</td>\n",
       "      <td>1.638110e+12</td>\n",
       "      <td>1.638110e+12</td>\n",
       "    </tr>\n",
       "    <tr>\n",
       "      <th>1</th>\n",
       "      <td>1638110131454</td>\n",
       "      <td>1.638110e+12</td>\n",
       "      <td>1.638110e+12</td>\n",
       "    </tr>\n",
       "    <tr>\n",
       "      <th>2</th>\n",
       "      <td>1638110120946</td>\n",
       "      <td>1.638110e+12</td>\n",
       "      <td>1.638110e+12</td>\n",
       "    </tr>\n",
       "    <tr>\n",
       "      <th>3</th>\n",
       "      <td>1638110128452</td>\n",
       "      <td>1.638110e+12</td>\n",
       "      <td>1.638110e+12</td>\n",
       "    </tr>\n",
       "    <tr>\n",
       "      <th>4</th>\n",
       "      <td>1638110129957</td>\n",
       "      <td>1.638110e+12</td>\n",
       "      <td>1.638110e+12</td>\n",
       "    </tr>\n",
       "  </tbody>\n",
       "</table>\n",
       "</div>"
      ],
      "text/plain": [
       "  timestamp_kafka  timestamp_db  timestamp_producer\n",
       "0   1638110119445  1.638110e+12        1.638110e+12\n",
       "1   1638110131454  1.638110e+12        1.638110e+12\n",
       "2   1638110120946  1.638110e+12        1.638110e+12\n",
       "3   1638110128452  1.638110e+12        1.638110e+12\n",
       "4   1638110129957  1.638110e+12        1.638110e+12"
      ]
     },
     "execution_count": 39,
     "metadata": {},
     "output_type": "execute_result"
    }
   ],
   "source": [
    "time_data = data[['timestamp_kafka', 'timestamp_db', 'timestamp_producer']]\n",
    "time_data.head()\n",
    "\n"
   ]
  },
  {
   "cell_type": "code",
   "execution_count": 59,
   "metadata": {},
   "outputs": [
    {
     "data": {
      "text/plain": [
       "count      63.000000\n",
       "mean     1477.634921\n",
       "std       503.197560\n",
       "min     -1494.000000\n",
       "25%      1497.500000\n",
       "50%      1501.000000\n",
       "75%      1504.000000\n",
       "max      3004.000000\n",
       "Name: timestamp_producer, dtype: float64"
      ]
     },
     "execution_count": 59,
     "metadata": {},
     "output_type": "execute_result"
    }
   ],
   "source": [
    "ts_kafka = data['timestamp_producer']\n",
    "\n",
    "ts_kafka.astype('int64').diff().fillna(0).describe()\n"
   ]
  },
  {
   "cell_type": "code",
   "execution_count": 68,
   "metadata": {},
   "outputs": [
    {
     "name": "stdout",
     "output_type": "stream",
     "text": [
      "      delay_producer_kafka  delay_kafka_db  delay_producer_db\n",
      "6431                     0             503                503\n",
      "6432                     2               3                  3\n",
      "6433                     0            1512               1512\n",
      "6434                     0               3                  3\n",
      "6435                     0               6                  6\n"
     ]
    }
   ],
   "source": [
    "import numpy as np\n",
    "time_data = time_data.astype(np.int64)\n",
    "\n",
    "delay_data = pd.DataFrame(\n",
    "    columns=['delay_producer_kafka', 'delay_kafka_db', 'delay_producer_db'])\n",
    "\n",
    "delay_data['delay_producer_kafka'] = time_data['timestamp_kafka'] - \\\n",
    "    time_data['timestamp_producer']\n",
    "delay_data['delay_kafka_db'] = time_data['timestamp_db'] - \\\n",
    "    time_data['timestamp_kafka']\n",
    "delay_data['delay_producer_db'] = time_data['timestamp_db'] - \\\n",
    "    time_data['timestamp_kafka']\n",
    "\n",
    "\n",
    "print(delay_data.tail())\n"
   ]
  },
  {
   "cell_type": "code",
   "execution_count": 69,
   "metadata": {},
   "outputs": [
    {
     "name": "stdout",
     "output_type": "stream",
     "text": [
      "start time:  1636958278190\n"
     ]
    }
   ],
   "source": [
    "start_time = time_data.min().min()\n",
    "print('start time: ', start_time)"
   ]
  },
  {
   "cell_type": "code",
   "execution_count": 70,
   "metadata": {},
   "outputs": [
    {
     "data": {
      "text/html": [
       "<div>\n",
       "<style scoped>\n",
       "    .dataframe tbody tr th:only-of-type {\n",
       "        vertical-align: middle;\n",
       "    }\n",
       "\n",
       "    .dataframe tbody tr th {\n",
       "        vertical-align: top;\n",
       "    }\n",
       "\n",
       "    .dataframe thead th {\n",
       "        text-align: right;\n",
       "    }\n",
       "</style>\n",
       "<table border=\"1\" class=\"dataframe\">\n",
       "  <thead>\n",
       "    <tr style=\"text-align: right;\">\n",
       "      <th></th>\n",
       "      <th>timestamp_kafka</th>\n",
       "      <th>timestamp_db</th>\n",
       "      <th>timestamp_producer</th>\n",
       "    </tr>\n",
       "  </thead>\n",
       "  <tbody>\n",
       "    <tr>\n",
       "      <th>0</th>\n",
       "      <td>3273916556387</td>\n",
       "      <td>3273916556450</td>\n",
       "      <td>3273916556387</td>\n",
       "    </tr>\n",
       "    <tr>\n",
       "      <th>1</th>\n",
       "      <td>3273916556380</td>\n",
       "      <td>3273916556438</td>\n",
       "      <td>3273916556380</td>\n",
       "    </tr>\n",
       "    <tr>\n",
       "      <th>2</th>\n",
       "      <td>3273916559388</td>\n",
       "      <td>3273916559393</td>\n",
       "      <td>3273916559388</td>\n",
       "    </tr>\n",
       "    <tr>\n",
       "      <th>3</th>\n",
       "      <td>3273916559380</td>\n",
       "      <td>3273916559419</td>\n",
       "      <td>3273916559380</td>\n",
       "    </tr>\n",
       "    <tr>\n",
       "      <th>4</th>\n",
       "      <td>3273916562381</td>\n",
       "      <td>3273916562387</td>\n",
       "      <td>3273916562381</td>\n",
       "    </tr>\n",
       "  </tbody>\n",
       "</table>\n",
       "</div>"
      ],
      "text/plain": [
       "   timestamp_kafka   timestamp_db  timestamp_producer\n",
       "0    3273916556387  3273916556450       3273916556387\n",
       "1    3273916556380  3273916556438       3273916556380\n",
       "2    3273916559388  3273916559393       3273916559388\n",
       "3    3273916559380  3273916559419       3273916559380\n",
       "4    3273916562381  3273916562387       3273916562381"
      ]
     },
     "execution_count": 70,
     "metadata": {},
     "output_type": "execute_result"
    }
   ],
   "source": [
    "time_data = time_data + start_time\n",
    "time_data.head()"
   ]
  },
  {
   "cell_type": "code",
   "execution_count": 71,
   "metadata": {},
   "outputs": [
    {
     "name": "stdout",
     "output_type": "stream",
     "text": [
      "time from start to end of test:  3274530592771 in minutes:  54575509.87951667\n"
     ]
    }
   ],
   "source": [
    "end_time = time_data.max().max()\n",
    "print('time from start to end of test: ', end_time, 'in minutes: ', end_time/1000/60)"
   ]
  },
  {
   "cell_type": "code",
   "execution_count": 75,
   "metadata": {},
   "outputs": [
    {
     "data": {
      "text/html": [
       "<div>\n",
       "<style scoped>\n",
       "    .dataframe tbody tr th:only-of-type {\n",
       "        vertical-align: middle;\n",
       "    }\n",
       "\n",
       "    .dataframe tbody tr th {\n",
       "        vertical-align: top;\n",
       "    }\n",
       "\n",
       "    .dataframe thead th {\n",
       "        text-align: right;\n",
       "    }\n",
       "</style>\n",
       "<table border=\"1\" class=\"dataframe\">\n",
       "  <thead>\n",
       "    <tr style=\"text-align: right;\">\n",
       "      <th></th>\n",
       "      <th>timestamp_kafka</th>\n",
       "      <th>timestamp_db</th>\n",
       "      <th>timestamp_producer</th>\n",
       "      <th>delay_producer_kafka</th>\n",
       "      <th>delay_kafka_db</th>\n",
       "      <th>delay_producer_db</th>\n",
       "    </tr>\n",
       "  </thead>\n",
       "  <tbody>\n",
       "    <tr>\n",
       "      <th>0</th>\n",
       "      <td>3273916556387</td>\n",
       "      <td>3273916556450</td>\n",
       "      <td>3273916556387</td>\n",
       "      <td>0</td>\n",
       "      <td>63</td>\n",
       "      <td>63</td>\n",
       "    </tr>\n",
       "    <tr>\n",
       "      <th>1</th>\n",
       "      <td>3273916556380</td>\n",
       "      <td>3273916556438</td>\n",
       "      <td>3273916556380</td>\n",
       "      <td>0</td>\n",
       "      <td>58</td>\n",
       "      <td>58</td>\n",
       "    </tr>\n",
       "    <tr>\n",
       "      <th>2</th>\n",
       "      <td>3273916559388</td>\n",
       "      <td>3273916559393</td>\n",
       "      <td>3273916559388</td>\n",
       "      <td>0</td>\n",
       "      <td>5</td>\n",
       "      <td>5</td>\n",
       "    </tr>\n",
       "    <tr>\n",
       "      <th>3</th>\n",
       "      <td>3273916559380</td>\n",
       "      <td>3273916559419</td>\n",
       "      <td>3273916559380</td>\n",
       "      <td>0</td>\n",
       "      <td>39</td>\n",
       "      <td>39</td>\n",
       "    </tr>\n",
       "    <tr>\n",
       "      <th>4</th>\n",
       "      <td>3273916562381</td>\n",
       "      <td>3273916562387</td>\n",
       "      <td>3273916562381</td>\n",
       "      <td>0</td>\n",
       "      <td>6</td>\n",
       "      <td>6</td>\n",
       "    </tr>\n",
       "  </tbody>\n",
       "</table>\n",
       "</div>"
      ],
      "text/plain": [
       "   timestamp_kafka   timestamp_db  timestamp_producer  delay_producer_kafka  \\\n",
       "0    3273916556387  3273916556450       3273916556387                     0   \n",
       "1    3273916556380  3273916556438       3273916556380                     0   \n",
       "2    3273916559388  3273916559393       3273916559388                     0   \n",
       "3    3273916559380  3273916559419       3273916559380                     0   \n",
       "4    3273916562381  3273916562387       3273916562381                     0   \n",
       "\n",
       "   delay_kafka_db  delay_producer_db  \n",
       "0              63                 63  \n",
       "1              58                 58  \n",
       "2               5                  5  \n",
       "3              39                 39  \n",
       "4               6                  6  "
      ]
     },
     "execution_count": 75,
     "metadata": {},
     "output_type": "execute_result"
    }
   ],
   "source": [
    "time_data.head()\n",
    "concat_pd = pd.concat([time_data,delay_data], axis=1)\n",
    "concat_pd.head()\n"
   ]
  },
  {
   "cell_type": "code",
   "execution_count": 60,
   "metadata": {},
   "outputs": [
    {
     "data": {
      "text/plain": [
       "count    61250.000000\n",
       "mean         0.000614\n",
       "std          0.151927\n",
       "min          0.000000\n",
       "25%          0.000000\n",
       "50%          0.000000\n",
       "75%          0.000000\n",
       "max         37.600000\n",
       "Name: delay_producer_kafka, dtype: float64"
      ]
     },
     "execution_count": 60,
     "metadata": {},
     "output_type": "execute_result"
    }
   ],
   "source": [
    "# through put: counting over intervals\n",
    "interval = 10000 # 10 secs\n",
    "start = 0\n",
    "end = end_time\n",
    "grouped_by_interval = time_data[\"delay_producer_kafka\"]\n",
    "grouped_by_interval = grouped_by_interval.groupby(pd.cut(grouped_by_interval, np.arange(start, end, interval))).count()\n",
    "throughput = grouped_by_interval/(interval/1000)\n",
    "throughput.describe()\n"
   ]
  },
  {
   "cell_type": "code",
   "execution_count": 54,
   "metadata": {},
   "outputs": [
    {
     "data": {
      "text/plain": [
       "count    61250.000000\n",
       "mean         0.000521\n",
       "std          0.128895\n",
       "min          0.000000\n",
       "25%          0.000000\n",
       "50%          0.000000\n",
       "75%          0.000000\n",
       "max         31.900000\n",
       "dtype: float64"
      ]
     },
     "execution_count": 54,
     "metadata": {},
     "output_type": "execute_result"
    }
   ],
   "source": [
    "# through put: counting over intervals\n",
    "interval = 10000  # 10 secs\n",
    "start = 0\n",
    "end = end_time\n",
    "grouped_by_interval = time_producer_kafka\n",
    "grouped_by_interval = grouped_by_interval.groupby(\n",
    "    pd.cut(grouped_by_interval, np.arange(start, end, interval))).count()\n",
    "throughput = grouped_by_interval/(interval/1000)\n",
    "throughput.describe()\n"
   ]
  },
  {
   "cell_type": "code",
   "execution_count": 97,
   "metadata": {},
   "outputs": [
    {
     "data": {
      "text/plain": [
       "[<matplotlib.lines.Line2D at 0x20080bded30>]"
      ]
     },
     "execution_count": 97,
     "metadata": {},
     "output_type": "execute_result"
    },
    {
     "data": {
      "image/png": "[encoded data removed]",
      "text/plain": [
       "<Figure size 432x288 with 1 Axes>"
      ]
     },
     "metadata": {
      "needs_background": "light"
     },
     "output_type": "display_data"
    }
   ],
   "source": [
    "plt.plot(time_data[\"timestamp_producer\"])"
   ]
  }
 ],
 "metadata": {
  "interpreter": {
   "hash": "b6dca31c40dac0508fe8bb571189613e8b58bfb2f14d9df93b31762f58f9068a"
  },
  "kernelspec": {
   "display_name": "Python 3.6.8 64-bit ('3.6.8': pyenv)",
   "name": "python3"
  },
  "language_info": {
   "codemirror_mode": {
    "name": "ipython",
    "version": 3
   },
   "file_extension": ".py",
   "mimetype": "text/x-python",
   "name": "python",
   "nbconvert_exporter": "python",
   "pygments_lexer": "ipython3",
   "version": "3.8.5"
  },
  "orig_nbformat": 4
 },
 "nbformat": 4,
 "nbformat_minor": 2
}
