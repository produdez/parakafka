{
 "cells": [
  {
   "cell_type": "code",
   "execution_count": 85,
   "metadata": {},
   "outputs": [
    {
     "name": "stdout",
     "output_type": "stream",
     "text": [
      "Requirement already satisfied: pymongo in w:\\work\\anaconda\\envs\\ml\\lib\\site-packages (3.12.1)\n"
     ]
    },
    {
     "name": "stderr",
     "output_type": "stream",
     "text": [
      "WARNING: Ignoring invalid distribution -illow (w:\\work\\anaconda\\envs\\ml\\lib\\site-packages)\n",
      "WARNING: Ignoring invalid distribution -illow (w:\\work\\anaconda\\envs\\ml\\lib\\site-packages)\n",
      "WARNING: Ignoring invalid distribution -illow (w:\\work\\anaconda\\envs\\ml\\lib\\site-packages)\n",
      "WARNING: Ignoring invalid distribution -illow (w:\\work\\anaconda\\envs\\ml\\lib\\site-packages)\n",
      "WARNING: Ignoring invalid distribution -illow (w:\\work\\anaconda\\envs\\ml\\lib\\site-packages)\n",
      "WARNING: Ignoring invalid distribution -illow (w:\\work\\anaconda\\envs\\ml\\lib\\site-packages)\n"
     ]
    }
   ],
   "source": [
    "!pip install pymongo"
   ]
  },
  {
   "cell_type": "code",
   "execution_count": null,
   "metadata": {},
   "outputs": [],
   "source": []
  },
  {
   "cell_type": "code",
   "execution_count": 86,
   "metadata": {},
   "outputs": [],
   "source": [
    "from pymongo import MongoClient"
   ]
  },
  {
   "cell_type": "code",
   "execution_count": 87,
   "metadata": {},
   "outputs": [],
   "source": [
    "# * VERY IMPORTANT TO CONFIG HERE\n",
    "mongo_url = 'mongodb://localhost'\n",
    "db_name = 'test'\n",
    "collection_name = 'test_collection'\n",
    "column_name = 'data'\n",
    "\n",
    "client = MongoClient(mongo_url)\n",
    "db=client[db_name]\n",
    "collection = db[collection_name]"
   ]
  },
  {
   "cell_type": "code",
   "execution_count": 88,
   "metadata": {},
   "outputs": [
    {
     "data": {
      "text/html": [
       "<div>\n",
       "<style scoped>\n",
       "    .dataframe tbody tr th:only-of-type {\n",
       "        vertical-align: middle;\n",
       "    }\n",
       "\n",
       "    .dataframe tbody tr th {\n",
       "        vertical-align: top;\n",
       "    }\n",
       "\n",
       "    .dataframe thead th {\n",
       "        text-align: right;\n",
       "    }\n",
       "</style>\n",
       "<table border=\"1\" class=\"dataframe\">\n",
       "  <thead>\n",
       "    <tr style=\"text-align: right;\">\n",
       "      <th></th>\n",
       "      <th>_id</th>\n",
       "      <th>topic</th>\n",
       "      <th>partition</th>\n",
       "      <th>timestamp_kafka</th>\n",
       "      <th>timestamp_db</th>\n",
       "      <th>data</th>\n",
       "      <th>timestamp_producer</th>\n",
       "      <th>producer_id</th>\n",
       "    </tr>\n",
       "  </thead>\n",
       "  <tbody>\n",
       "    <tr>\n",
       "      <th>0</th>\n",
       "      <td>61829da0b001a2c70fac28b6</td>\n",
       "      <td>test-topic</td>\n",
       "      <td>0</td>\n",
       "      <td>1635949984184</td>\n",
       "      <td>1.635950e+12</td>\n",
       "      <td>0.314683</td>\n",
       "      <td>1.635950e+12</td>\n",
       "      <td>parakafka</td>\n",
       "    </tr>\n",
       "    <tr>\n",
       "      <th>1</th>\n",
       "      <td>61829da3b001a2c70fac28b7</td>\n",
       "      <td>test-topic</td>\n",
       "      <td>0</td>\n",
       "      <td>1635949987187</td>\n",
       "      <td>1.635950e+12</td>\n",
       "      <td>0.240577</td>\n",
       "      <td>1.635950e+12</td>\n",
       "      <td>parakafka</td>\n",
       "    </tr>\n",
       "    <tr>\n",
       "      <th>2</th>\n",
       "      <td>61829da6b001a2c70fac28b8</td>\n",
       "      <td>test-topic</td>\n",
       "      <td>0</td>\n",
       "      <td>1635949990198</td>\n",
       "      <td>1.635950e+12</td>\n",
       "      <td>1.071590</td>\n",
       "      <td>1.635950e+12</td>\n",
       "      <td>parakafka</td>\n",
       "    </tr>\n",
       "    <tr>\n",
       "      <th>3</th>\n",
       "      <td>61829da9b001a2c70fac28b9</td>\n",
       "      <td>test-topic</td>\n",
       "      <td>0</td>\n",
       "      <td>1635949993208</td>\n",
       "      <td>1.635950e+12</td>\n",
       "      <td>-1.587981</td>\n",
       "      <td>1.635950e+12</td>\n",
       "      <td>parakafka</td>\n",
       "    </tr>\n",
       "    <tr>\n",
       "      <th>4</th>\n",
       "      <td>61829dacb001a2c70fac28ba</td>\n",
       "      <td>test-topic</td>\n",
       "      <td>0</td>\n",
       "      <td>1635949996222</td>\n",
       "      <td>1.635950e+12</td>\n",
       "      <td>-1.661553</td>\n",
       "      <td>1.635950e+12</td>\n",
       "      <td>parakafka</td>\n",
       "    </tr>\n",
       "  </tbody>\n",
       "</table>\n",
       "</div>"
      ],
      "text/plain": [
       "                        _id       topic  partition timestamp_kafka  \\\n",
       "0  61829da0b001a2c70fac28b6  test-topic          0   1635949984184   \n",
       "1  61829da3b001a2c70fac28b7  test-topic          0   1635949987187   \n",
       "2  61829da6b001a2c70fac28b8  test-topic          0   1635949990198   \n",
       "3  61829da9b001a2c70fac28b9  test-topic          0   1635949993208   \n",
       "4  61829dacb001a2c70fac28ba  test-topic          0   1635949996222   \n",
       "\n",
       "   timestamp_db      data  timestamp_producer producer_id  \n",
       "0  1.635950e+12  0.314683        1.635950e+12   parakafka  \n",
       "1  1.635950e+12  0.240577        1.635950e+12   parakafka  \n",
       "2  1.635950e+12  1.071590        1.635950e+12   parakafka  \n",
       "3  1.635950e+12 -1.587981        1.635950e+12   parakafka  \n",
       "4  1.635950e+12 -1.661553        1.635950e+12   parakafka  "
      ]
     },
     "execution_count": 88,
     "metadata": {},
     "output_type": "execute_result"
    }
   ],
   "source": [
    "import pandas as pd\n",
    "data = pd.DataFrame( list(collection.find({})))\n",
    "data.head()"
   ]
  },
  {
   "cell_type": "code",
   "execution_count": 89,
   "metadata": {},
   "outputs": [
    {
     "name": "stdout",
     "output_type": "stream",
     "text": [
      "Current data count:  246\n"
     ]
    }
   ],
   "source": [
    "print('Current data count: ', data.shape[0])"
   ]
  },
  {
   "cell_type": "code",
   "execution_count": 90,
   "metadata": {},
   "outputs": [
    {
     "data": {
      "image/png": "[encoded data removed]",
      "text/plain": [
       "<Figure size 432x288 with 1 Axes>"
      ]
     },
     "metadata": {
      "needs_background": "light"
     },
     "output_type": "display_data"
    }
   ],
   "source": [
    "import matplotlib.pyplot as plt\n",
    "import seaborn as sns\n",
    "sns.histplot(data=data, x=column_name)\n",
    "plt.show()"
   ]
  },
  {
   "cell_type": "markdown",
   "metadata": {},
   "source": [
    "# Throughput calculation TEST"
   ]
  },
  {
   "cell_type": "code",
   "execution_count": 91,
   "metadata": {},
   "outputs": [
    {
     "data": {
      "text/html": [
       "<div>\n",
       "<style scoped>\n",
       "    .dataframe tbody tr th:only-of-type {\n",
       "        vertical-align: middle;\n",
       "    }\n",
       "\n",
       "    .dataframe tbody tr th {\n",
       "        vertical-align: top;\n",
       "    }\n",
       "\n",
       "    .dataframe thead th {\n",
       "        text-align: right;\n",
       "    }\n",
       "</style>\n",
       "<table border=\"1\" class=\"dataframe\">\n",
       "  <thead>\n",
       "    <tr style=\"text-align: right;\">\n",
       "      <th></th>\n",
       "      <th>timestamp_kafka</th>\n",
       "      <th>timestamp_db</th>\n",
       "      <th>timestamp_producer</th>\n",
       "    </tr>\n",
       "  </thead>\n",
       "  <tbody>\n",
       "    <tr>\n",
       "      <th>0</th>\n",
       "      <td>1635949984184</td>\n",
       "      <td>1.635950e+12</td>\n",
       "      <td>1.635950e+12</td>\n",
       "    </tr>\n",
       "    <tr>\n",
       "      <th>1</th>\n",
       "      <td>1635949987187</td>\n",
       "      <td>1.635950e+12</td>\n",
       "      <td>1.635950e+12</td>\n",
       "    </tr>\n",
       "    <tr>\n",
       "      <th>2</th>\n",
       "      <td>1635949990198</td>\n",
       "      <td>1.635950e+12</td>\n",
       "      <td>1.635950e+12</td>\n",
       "    </tr>\n",
       "    <tr>\n",
       "      <th>3</th>\n",
       "      <td>1635949993208</td>\n",
       "      <td>1.635950e+12</td>\n",
       "      <td>1.635950e+12</td>\n",
       "    </tr>\n",
       "    <tr>\n",
       "      <th>4</th>\n",
       "      <td>1635949996222</td>\n",
       "      <td>1.635950e+12</td>\n",
       "      <td>1.635950e+12</td>\n",
       "    </tr>\n",
       "  </tbody>\n",
       "</table>\n",
       "</div>"
      ],
      "text/plain": [
       "  timestamp_kafka  timestamp_db  timestamp_producer\n",
       "0   1635949984184  1.635950e+12        1.635950e+12\n",
       "1   1635949987187  1.635950e+12        1.635950e+12\n",
       "2   1635949990198  1.635950e+12        1.635950e+12\n",
       "3   1635949993208  1.635950e+12        1.635950e+12\n",
       "4   1635949996222  1.635950e+12        1.635950e+12"
      ]
     },
     "execution_count": 91,
     "metadata": {},
     "output_type": "execute_result"
    }
   ],
   "source": [
    "time_data = data[['timestamp_kafka', 'timestamp_db', 'timestamp_producer']]\n",
    "time_data.head()"
   ]
  },
  {
   "cell_type": "code",
   "execution_count": 92,
   "metadata": {},
   "outputs": [
    {
     "data": {
      "text/html": [
       "<div>\n",
       "<style scoped>\n",
       "    .dataframe tbody tr th:only-of-type {\n",
       "        vertical-align: middle;\n",
       "    }\n",
       "\n",
       "    .dataframe tbody tr th {\n",
       "        vertical-align: top;\n",
       "    }\n",
       "\n",
       "    .dataframe thead th {\n",
       "        text-align: right;\n",
       "    }\n",
       "</style>\n",
       "<table border=\"1\" class=\"dataframe\">\n",
       "  <thead>\n",
       "    <tr style=\"text-align: right;\">\n",
       "      <th></th>\n",
       "      <th>timestamp_kafka</th>\n",
       "      <th>timestamp_db</th>\n",
       "      <th>timestamp_producer</th>\n",
       "    </tr>\n",
       "  </thead>\n",
       "  <tbody>\n",
       "    <tr>\n",
       "      <th>0</th>\n",
       "      <td>1635949984184</td>\n",
       "      <td>1635949984191</td>\n",
       "      <td>1635949984178</td>\n",
       "    </tr>\n",
       "    <tr>\n",
       "      <th>1</th>\n",
       "      <td>1635949987187</td>\n",
       "      <td>1635949987193</td>\n",
       "      <td>1635949987181</td>\n",
       "    </tr>\n",
       "    <tr>\n",
       "      <th>2</th>\n",
       "      <td>1635949990198</td>\n",
       "      <td>1635949990205</td>\n",
       "      <td>1635949990193</td>\n",
       "    </tr>\n",
       "    <tr>\n",
       "      <th>3</th>\n",
       "      <td>1635949993208</td>\n",
       "      <td>1635949993215</td>\n",
       "      <td>1635949993201</td>\n",
       "    </tr>\n",
       "    <tr>\n",
       "      <th>4</th>\n",
       "      <td>1635949996222</td>\n",
       "      <td>1635949996236</td>\n",
       "      <td>1635949996215</td>\n",
       "    </tr>\n",
       "  </tbody>\n",
       "</table>\n",
       "</div>"
      ],
      "text/plain": [
       "   timestamp_kafka   timestamp_db  timestamp_producer\n",
       "0    1635949984184  1635949984191       1635949984178\n",
       "1    1635949987187  1635949987193       1635949987181\n",
       "2    1635949990198  1635949990205       1635949990193\n",
       "3    1635949993208  1635949993215       1635949993201\n",
       "4    1635949996222  1635949996236       1635949996215"
      ]
     },
     "execution_count": 92,
     "metadata": {},
     "output_type": "execute_result"
    }
   ],
   "source": [
    "import numpy as np\n",
    "time_data = time_data.astype(np.int64)\n",
    "time_data.head()"
   ]
  },
  {
   "cell_type": "code",
   "execution_count": 93,
   "metadata": {},
   "outputs": [
    {
     "name": "stdout",
     "output_type": "stream",
     "text": [
      "start time:  1635949984178\n"
     ]
    }
   ],
   "source": [
    "start_time = time_data.min().min()\n",
    "print('start time: ', start_time)"
   ]
  },
  {
   "cell_type": "code",
   "execution_count": 94,
   "metadata": {},
   "outputs": [
    {
     "data": {
      "text/html": [
       "<div>\n",
       "<style scoped>\n",
       "    .dataframe tbody tr th:only-of-type {\n",
       "        vertical-align: middle;\n",
       "    }\n",
       "\n",
       "    .dataframe tbody tr th {\n",
       "        vertical-align: top;\n",
       "    }\n",
       "\n",
       "    .dataframe thead th {\n",
       "        text-align: right;\n",
       "    }\n",
       "</style>\n",
       "<table border=\"1\" class=\"dataframe\">\n",
       "  <thead>\n",
       "    <tr style=\"text-align: right;\">\n",
       "      <th></th>\n",
       "      <th>timestamp_kafka</th>\n",
       "      <th>timestamp_db</th>\n",
       "      <th>timestamp_producer</th>\n",
       "    </tr>\n",
       "  </thead>\n",
       "  <tbody>\n",
       "    <tr>\n",
       "      <th>0</th>\n",
       "      <td>6</td>\n",
       "      <td>13</td>\n",
       "      <td>0</td>\n",
       "    </tr>\n",
       "    <tr>\n",
       "      <th>1</th>\n",
       "      <td>3009</td>\n",
       "      <td>3015</td>\n",
       "      <td>3003</td>\n",
       "    </tr>\n",
       "    <tr>\n",
       "      <th>2</th>\n",
       "      <td>6020</td>\n",
       "      <td>6027</td>\n",
       "      <td>6015</td>\n",
       "    </tr>\n",
       "    <tr>\n",
       "      <th>3</th>\n",
       "      <td>9030</td>\n",
       "      <td>9037</td>\n",
       "      <td>9023</td>\n",
       "    </tr>\n",
       "    <tr>\n",
       "      <th>4</th>\n",
       "      <td>12044</td>\n",
       "      <td>12058</td>\n",
       "      <td>12037</td>\n",
       "    </tr>\n",
       "  </tbody>\n",
       "</table>\n",
       "</div>"
      ],
      "text/plain": [
       "   timestamp_kafka  timestamp_db  timestamp_producer\n",
       "0                6            13                   0\n",
       "1             3009          3015                3003\n",
       "2             6020          6027                6015\n",
       "3             9030          9037                9023\n",
       "4            12044         12058               12037"
      ]
     },
     "execution_count": 94,
     "metadata": {},
     "output_type": "execute_result"
    }
   ],
   "source": [
    "time_data = time_data - start_time\n",
    "time_data.head()"
   ]
  },
  {
   "cell_type": "code",
   "execution_count": 95,
   "metadata": {},
   "outputs": [
    {
     "name": "stdout",
     "output_type": "stream",
     "text": [
      "time from start to end of test:  736947 in minutes:  12.28245\n"
     ]
    }
   ],
   "source": [
    "end_time = time_data.max().max()\n",
    "print('time from start to end of test: ', end_time, 'in minutes: ', end_time/1000/60)"
   ]
  },
  {
   "cell_type": "code",
   "execution_count": 96,
   "metadata": {},
   "outputs": [
    {
     "data": {
      "text/plain": [
       "count    73.000000\n",
       "mean      0.331507\n",
       "std       0.046776\n",
       "min       0.300000\n",
       "25%       0.300000\n",
       "50%       0.300000\n",
       "75%       0.400000\n",
       "max       0.400000\n",
       "Name: timestamp_producer, dtype: float64"
      ]
     },
     "execution_count": 96,
     "metadata": {},
     "output_type": "execute_result"
    }
   ],
   "source": [
    "# through put: counting over intervals\n",
    "interval = 10000 # 10 secs\n",
    "start = 0\n",
    "end = end_time\n",
    "grouped_by_interval = time_data[\"timestamp_producer\"]\n",
    "grouped_by_interval = grouped_by_interval.groupby(pd.cut(grouped_by_interval, np.arange(start, end, interval))).count()\n",
    "throughput = grouped_by_interval/(interval/1000)\n",
    "throughput.describe()"
   ]
  },
  {
   "cell_type": "code",
   "execution_count": 97,
   "metadata": {},
   "outputs": [
    {
     "data": {
      "text/plain": [
       "[<matplotlib.lines.Line2D at 0x20080bded30>]"
      ]
     },
     "execution_count": 97,
     "metadata": {},
     "output_type": "execute_result"
    },
    {
     "data": {
      "image/png": "[encoded data removed]",
      "text/plain": [
       "<Figure size 432x288 with 1 Axes>"
      ]
     },
     "metadata": {
      "needs_background": "light"
     },
     "output_type": "display_data"
    }
   ],
   "source": [
    "plt.plot(time_data[\"timestamp_producer\"])"
   ]
  }
 ],
 "metadata": {
  "interpreter": {
   "hash": "b6dca31c40dac0508fe8bb571189613e8b58bfb2f14d9df93b31762f58f9068a"
  },
  "kernelspec": {
   "display_name": "Python 3.6.8 64-bit ('3.6.8': pyenv)",
   "name": "python3"
  },
  "language_info": {
   "codemirror_mode": {
    "name": "ipython",
    "version": 3
   },
   "file_extension": ".py",
   "mimetype": "text/x-python",
   "name": "python",
   "nbconvert_exporter": "python",
   "pygments_lexer": "ipython3",
   "version": "3.9.5"
  },
  "orig_nbformat": 4
 },
 "nbformat": 4,
 "nbformat_minor": 2
}
